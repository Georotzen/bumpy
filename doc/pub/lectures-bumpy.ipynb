{
 "metadata": {},
 "nbformat": 3,
 "nbformat_minor": 0,
 "worksheets": [
  {
   "cells": [
    {
     "cell_type": "markdown",
     "metadata": {},
     "source": [
      "# A worked example on scientific computing with Python\n",
      "**Jan 15, 2015**\n",
      "\n",
      "\n",
      "\n",
      "\n",
      "\n",
      "\n",
      "\n",
      "### Contents\n",
      "\n",
      "This worked example\n",
      "\n",
      "  * fetches a data file from a web site,\n",
      "\n",
      "  * applies that file as input data for a differential equation modeling a vibrating system,\n",
      "\n",
      "  * solves the equation by a finite difference method,\n",
      "\n",
      "  * visualizes various properties of the solution and the input data.\n",
      "\n",
      "### The following programming topics are illustrated\n",
      "\n",
      "  * basic Python constructs: variables, loops, if-tests, arrays, functions\n",
      "\n",
      "  * flexible storage of objects in lists\n",
      "\n",
      "  * storage of objects in files (persistence)\n",
      "\n",
      "  * downloading files from the web\n",
      "\n",
      "  * user input via the command line\n",
      "\n",
      "  * signal processing and FFT\n",
      "\n",
      "  * curve plotting of data\n",
      "\n",
      "  * testing\n",
      "\n",
      "  * modules\n",
      "\n",
      "All files can be forked at <https://github.com/hplgit/bumpy>\n",
      "\n",
      "\n",
      "\n",
      "\n",
      "\n",
      "\n",
      "\n",
      "## A scientific application\n",
      "\n",
      "\n",
      "<p></p>\n",
      "<img src=\"fig-bumpy/bumpy_road1.jpg\" width=400>\n",
      "\n",
      "\n",
      "\n",
      "### Physical problem and mathematical model"
     ]
    },
    {
     "cell_type": "markdown",
     "metadata": {},
     "source": [
      "<!-- Equation labels as ordinary links -->\n",
      "<div id=\"bumpy:eq1\"></div>\n",
      "\n",
      "$$\n",
      "\\begin{equation}\n",
      "mu'' + f(u') + s(u) = F(t),\\quad u(0)=I,\\ u'(0)=V\n",
      "\\label{bumpy:eq1} \\tag{1}\n",
      "\\end{equation}\n",
      "$$"
     ]
    },
    {
     "cell_type": "markdown",
     "metadata": {},
     "source": [
      "* Input: mass $m$, friction force $f(u')$, spring $s(u)$, external\n",
      "   forcing $F(t)$, $I$, $V$\n",
      "\n",
      " * Output: vertical displacement $u(t)$\n",
      "\n",
      "<p></p>\n",
      "<img src=\"fig-bumpy/vehicle2.png\" width=500>\n",
      "\n",
      "\n",
      "\n",
      "\n",
      "### Numerical model\n",
      "\n",
      " * Finite difference method\n",
      "\n",
      " * Centered differences\n",
      "\n",
      " * $u^n$: approximation to exact $u$ at $t=t_n=n\\Delta t$\n",
      "\n",
      " * First: linear damping"
     ]
    },
    {
     "cell_type": "markdown",
     "metadata": {},
     "source": [
      "$$\n",
      "u^{n+1} = \\left(2mu^n + (\\frac{b}{2}\\Delta t - m)u^{n-1} +\n",
      "\\Delta t^2(F^n - s(u^n))\n",
      "\\right)(m + \\frac{b}{2}\\Delta t)^{-1}\n",
      "$$"
     ]
    },
    {
     "cell_type": "markdown",
     "metadata": {},
     "source": [
      "A special formula must be applied for $n=0$:"
     ]
    },
    {
     "cell_type": "markdown",
     "metadata": {},
     "source": [
      "$$\n",
      "u^1 = u^0 + \\Delta t\\, V\n",
      "+ \\frac{\\Delta t^2}{2m}(-bV - s(u^0) + F^0)\n",
      "$$"
     ]
    },
    {
     "cell_type": "markdown",
     "metadata": {},
     "source": [
      "### Extension to quadratic damping\n",
      "\n",
      "Linearization via geometric mean:"
     ]
    },
    {
     "cell_type": "markdown",
     "metadata": {},
     "source": [
      "$$\n",
      "f(u'(t_n)) = \\left. |u'|u'\\right\\vert^n \\approx |u'|^{n-\\frac{1}{2}}\n",
      "(u')^{n+\\frac{1}{2}}\n",
      "$$"
     ]
    },
    {
     "cell_type": "markdown",
     "metadata": {},
     "source": [
      "$$\n",
      "\\begin{align*}\n",
      "u^{n+1} = & \\left( m + b|u^n-u^{n-1}|\\right)^{-1}\\times \\\\ \n",
      "&\\quad \\left(2m u^n - mu^{n-1} + bu^n|u^n-u^{n-1}| + \\Delta t^2 (F^n - s(u^n))\n",
      "\\right)\n",
      "\\end{align*}\n",
      "$$"
     ]
    },
    {
     "cell_type": "markdown",
     "metadata": {},
     "source": [
      "(and again a special formula for $u^1$)\n",
      "\n",
      "\n",
      "### Simple implementation"
     ]
    },
    {
     "cell_type": "code",
     "collapsed": false,
     "input": [
      "from numpy import *\n",
      "\n",
      "def solver_linear_damping(I, V, m, b, s, F, t):\n",
      "    N = t.size - 1              # No of time intervals\n",
      "    dt = t[1] - t[0]            # Time step\n",
      "    u = zeros(N+1)              # Result array\n",
      "    u[0] = I\n",
      "    u[1] = u[0] + dt*V + dt**2/(2*m)*(-b*V - s(u[0]) + F[0])\n",
      "\n",
      "    for n in range(1,N):\n",
      "        u[n+1] = 1./(m + b*dt/2)*(2*m*u[n] + \\\n",
      "                 (b*dt/2 - m)*u[n-1] + dt**2*(F[n] - s(u[n])))\n",
      "    return u\n"
     ],
     "language": "python",
     "metadata": {},
     "outputs": [],
     "prompt_number": 1
    },
    {
     "cell_type": "markdown",
     "metadata": {},
     "source": [
      "### Using the function"
     ]
    },
    {
     "cell_type": "code",
     "collapsed": false,
     "input": [
      "%matplotlib inline\n",
      "\n",
      "from solver import solver_linear_damping\n",
      "from numpy import *\n",
      "\n",
      "def s(u):\n",
      "    return 2*u\n",
      "\n",
      "T = 10*pi      # simulate for t in [0,T]\n",
      "dt = 0.2\n",
      "N = int(round(T/dt))\n",
      "t = linspace(0, T, N+1)\n",
      "F = zeros(t.size)\n",
      "I = 1; V = 0\n",
      "m = 2; b = 0.2\n",
      "u = solver_linear_damping(I, V, m, b, s, F, t)\n",
      "\n",
      "from matplotlib.pyplot import *\n",
      "plot(t, u)\n",
      "savefig('tmp.pdf')   # save plot to PDF file\n",
      "savefig('tmp.png')   # save plot to PNG file\n",
      "show()\n"
     ],
     "language": "python",
     "metadata": {},
     "outputs": [],
     "prompt_number": 1
    },
    {
     "cell_type": "markdown",
     "metadata": {},
     "source": [
      "### More advanced implementation"
     ]
    },
    {
     "cell_type": "code",
     "collapsed": false,
     "input": [
      "import numpy as np\n",
      "\n",
      "def solver(I, V, m, b, s, F, t, damping='linear'):\n",
      "    \"\"\"\n",
      "    Solve m*u'' + f(u') + s(u) = F for time points in t.\n",
      "    u(0)=I and u'(0)=V,\n",
      "    by a central finite difference method with time step dt.\n",
      "    If damping is 'linear', f(u')=b*u, while if damping is\n",
      "    'quadratic', we have f(u')=b*u'*abs(u').\n",
      "    s(u) is a Python function, while F may be a function\n",
      "    or an array (then F[i] corresponds to F at t[i]).\n",
      "    \"\"\"\n",
      "    N = t.size - 1              # No of time intervals\n",
      "    dt = t[1] - t[0]            # Time step\n",
      "    u = np.zeros(N+1)           # Result array\n",
      "    b = float(b); m = float(m)  # Avoid integer division\n",
      "\n",
      "    # Convert F to array\n",
      "    if callable(F):\n",
      "        F = F(t)\n",
      "    elif isinstance(F, (list,tuple,np.ndarray)):\n",
      "        F = np.asarray(F)\n",
      "    else:\n",
      "        raise TypeError(\n",
      "            'F must be function or array, not %s' % type(F))\n",
      "\n",
      "    u[0] = I\n",
      "    if damping == 'linear':\n",
      "        u[1] = u[0] + dt*V + dt**2/(2*m)*(-b*V - s(u[0]) + F[0])\n",
      "    elif damping == 'quadratic':\n",
      "        u[1] = u[0] + dt*V + \\\n",
      "               dt**2/(2*m)*(-b*V*abs(V) - s(u[0]) + F[0])\n",
      "    else:\n",
      "        raise ValueError('Wrong value: damping=\"%s\"' % damping)\n",
      "\n",
      "    for n in range(1,N):\n",
      "        if damping == 'linear':\n",
      "            u[n+1] = (2*m*u[n] + (b*dt/2 - m)*u[n-1] +\n",
      "                      dt**2*(F[n] - s(u[n])))/(m + b*dt/2)\n",
      "        elif damping == 'quadratic':\n",
      "            u[n+1] = (2*m*u[n] - m*u[n-1] + b*u[n]*abs(u[n] - u[n-1])\n",
      "                      - dt**2*(s(u[n]) - F[n]))/\\\n",
      "                      (m + b*abs(u[n] - u[n-1]))\n",
      "    return u, t\n"
     ],
     "language": "python",
     "metadata": {},
     "outputs": [],
     "prompt_number": 1
    },
    {
     "cell_type": "markdown",
     "metadata": {},
     "source": [
      "### Important features\n",
      "\n",
      " * Two types of import: `import module` vs `from module import function`\n",
      "\n",
      " * Doc strings for documentation\n",
      "\n",
      " * Avoiding integer division\n",
      "\n",
      " * Flexible variable type: `F` can be function or array\n",
      "\n",
      " * Checking correct variable type\n",
      "\n",
      "### Using the solver function"
     ]
    },
    {
     "cell_type": "code",
     "collapsed": false,
     "input": [
      "import numpy as np\n",
      "from numpy import sin, pi  # for nice math\n",
      "from solver import solver\n",
      "\n",
      "def F(t):\n",
      "    # Sinusoidal bumpy road\n",
      "    return A*sin(pi*t)\n",
      "\n",
      "def s(u):\n",
      "    return k*u\n",
      "\n",
      "A = 0.25\n",
      "k = 2\n",
      "t = np.linspace(0, 20, 2001)\n",
      "u, t = solver(I=0.1, V=0, m=2, b=0.05, s=s, F=F, t=t)\n",
      "\n",
      "# Show u(t) as a curve plot\n",
      "import matplotlib.pyplot as plt\n",
      "plt.plot(t, u)\n",
      "plt.show()\n"
     ],
     "language": "python",
     "metadata": {},
     "outputs": [],
     "prompt_number": 1
    },
    {
     "cell_type": "markdown",
     "metadata": {},
     "source": [
      "### Local vs global variables"
     ]
    },
    {
     "cell_type": "markdown",
     "metadata": {},
     "source": [
      "```Python\n",
      "        def f(u):\n",
      "            return k*u\n",
      "\n",
      "```"
     ]
    },
    {
     "cell_type": "markdown",
     "metadata": {},
     "source": [
      "Here,\n",
      "\n",
      "  * `u` is a *local variable*,\n",
      "    which is accessible just inside in the function\n",
      "\n",
      "  * `k` is a *global variable*, which must be initialized outside\n",
      "    the function prior to calling `f`\n",
      "\n",
      "### Advanced programming of functions with parameters\n",
      "\n",
      " * $f(u)=ku$ needs parameter $k$\n",
      "\n",
      " * Implement $f$ as a class with $k$ as attribute and `__call__`\n",
      "   for evaluating `f(u)`"
     ]
    },
    {
     "cell_type": "markdown",
     "metadata": {},
     "source": [
      "```Python\n",
      "        class Spring:\n",
      "            def __init__(self, k):\n",
      "                self.k = k\n",
      "            def __call__(self, u):\n",
      "                return self.k*u\n",
      "        \n",
      "        f = Spring(k)\n",
      "\n",
      "```"
     ]
    },
    {
     "cell_type": "markdown",
     "metadata": {},
     "source": [
      "### The excitation force\n",
      "\n",
      " * Bumpy road gives an excitation\n",
      "\n",
      " * <http://hplbit.bitbucket.org/data/bumpy/bumpy.dat.gz>\n",
      "\n",
      " * File contains various road profiles\n",
      "\n",
      "Download road profile data from the Internet:"
     ]
    },
    {
     "cell_type": "markdown",
     "metadata": {},
     "source": [
      "```Python\n",
      "        filename = 'bumpy.dat.gz'\n",
      "        url = 'http://hplbit.bitbucket.org/data/bumpy/bumpy.dat.gz'\n",
      "        import urllib\n",
      "        urllib.urlretrieve(url, filename)\n",
      "        h_data = np.loadtxt(filename)     # read numpy array from file\n",
      "        \n",
      "        x = h_data[0,:]                # 1st column: x coordinates\n",
      "        h_data = h_data[1:,:]          # other columns: h shapes\n",
      "\n",
      "```"
     ]
    },
    {
     "cell_type": "markdown",
     "metadata": {},
     "source": [
      "### Computing the force from the road profile"
     ]
    },
    {
     "cell_type": "markdown",
     "metadata": {},
     "source": [
      "$$\n",
      "F(t) \\sim  h''(t)\n",
      "$$"
     ]
    },
    {
     "cell_type": "code",
     "collapsed": false,
     "input": [
      "def acceleration(h, x, v):\n",
      "    \"\"\"Compute 2nd-order derivative of h.\"\"\"\n",
      "    # Method: standard finite difference aproximation\n",
      "    d2h = np.zeros(h.size)\n",
      "    dx = x[1] - x[0]\n",
      "    for i in range(1, h.size-1, 1):\n",
      "        d2h[i] = (h[i-1] - 2*h[i] + h[i+1])/dx**2\n",
      "    # Extraplolate end values from first interior value\n",
      "    d2h[0] = d2h[1]\n",
      "    d2h[-1] = d2h[-2]\n",
      "    a = d2h*v**2\n",
      "    return a\n"
     ],
     "language": "python",
     "metadata": {},
     "outputs": [],
     "prompt_number": 1
    },
    {
     "cell_type": "markdown",
     "metadata": {},
     "source": [
      "### Vectorized version of the previous function"
     ]
    },
    {
     "cell_type": "code",
     "collapsed": false,
     "input": [
      "def acceleration_vectorized(h, x, v):\n",
      "    \"\"\"Compute 2nd-order derivative of h. Vectorized version.\"\"\"\n",
      "    d2h = np.zeros(h.size)\n",
      "    dx = x[1] - x[0]\n",
      "    d2h[1:-1] = (h[:-2] - 2*h[1:-1] + h[2:])/dx**2\n",
      "    # Extraplolate end values from first interior value\n",
      "    d2h[0] = d2h[1]\n",
      "    d2h[-1] = d2h[-2]\n",
      "    a = d2h*v**2\n",
      "    return a\n"
     ],
     "language": "python",
     "metadata": {},
     "outputs": [],
     "prompt_number": 1
    },
    {
     "cell_type": "markdown",
     "metadata": {},
     "source": [
      "### Performing the simulation of vibrations"
     ]
    },
    {
     "cell_type": "code",
     "collapsed": false,
     "input": [
      "data = [x, t]      # key input and output data (arrays)\n",
      "for i in range(h_data.shape[0]):\n",
      "    h = h_data[i,:]            # extract a column\n",
      "    a = acceleration(h, x, v)\n",
      "    u = forced_vibrations(t=t, I=0, m=m, b=b, f=f, F=-m*a)\n",
      "    data.append([h, a, u])\n"
     ],
     "language": "python",
     "metadata": {},
     "outputs": [],
     "prompt_number": 1
    },
    {
     "cell_type": "markdown",
     "metadata": {},
     "source": [
      "Parameters for bicycle conditions: $m=60$ kg, $v=5$ m/s, $k=60$ N/m,\n",
      "$b=80$ Ns/m\n",
      "\n",
      "### A high-level solve function (part I)"
     ]
    },
    {
     "cell_type": "code",
     "collapsed": false,
     "input": [
      "def solve(url=None, m=60, b=80, k=60, v=5):\n",
      "    \"\"\"\n",
      "    Solve model for verticle vehicle vibrations.\n",
      "\n",
      "    =========   ==============================================\n",
      "    variable    description\n",
      "    =========   ==============================================\n",
      "    url         either URL of file with excitation force data,\n",
      "                or name of a local file\n",
      "    m           mass of system\n",
      "    b           friction parameter\n",
      "    k           spring parameter\n",
      "    v           (constant) velocity of vehicle\n",
      "    Return      data (list) holding input and output data\n",
      "                [x, t, [h,a,u], [h,a,u], ...]\n",
      "    =========   ==============================================\n",
      "    \"\"\"\n",
      "    # Download file (if url is not the name of a local file)\n",
      "    if url.startswith('http://') or url.startswith('file://'):\n",
      "        import urllib\n",
      "        filename = os.path.basename(url)  # strip off path\n",
      "        urllib.urlretrieve(url, filename)\n",
      "    else:\n",
      "        # Check if url is the name of a local file\n",
      "        if not os.path.isfile(url):\n",
      "            print url, 'must be a URL or a filename'; sys.exit(1)\n"
     ],
     "language": "python",
     "metadata": {},
     "outputs": [],
     "prompt_number": 1
    },
    {
     "cell_type": "markdown",
     "metadata": {},
     "source": [
      "### A high-level solve function (part II)"
     ]
    },
    {
     "cell_type": "code",
     "collapsed": false,
     "input": [
      "def solve(url=None, m=60, b=80, k=60, v=5):\n",
      "    ...\n",
      "    h_data = np.loadtxt(filename)  # read numpy array from file\n",
      "\n",
      "    x = h_data[0,:]                # 1st column: x coordinates\n",
      "    h_data = h_data[1:,:]          # other columns: h shapes\n",
      "\n",
      "    t = x/v                        # time corresponding to x\n",
      "    dt = t[1] - t[0]\n",
      "\n",
      "    def f(u):\n",
      "        return k*u\n",
      "\n",
      "    data = [x, t]      # key input and output data (arrays)\n",
      "    for i in range(h_data.shape[0]):\n",
      "        h = h_data[i,:]            # extract a column\n",
      "        a = acceleration(h, x, v)\n",
      "\n",
      "        u = forced_vibrations(t=t, I=0.2, m=m, b=b, f=f, F=-m*a)\n",
      "        data.append([h, a, u])\n",
      "    return data\n"
     ],
     "language": "python",
     "metadata": {},
     "outputs": [],
     "prompt_number": 1
    },
    {
     "cell_type": "markdown",
     "metadata": {},
     "source": [
      "### Computing an expression for the noise level of the vibrations"
     ]
    },
    {
     "cell_type": "markdown",
     "metadata": {},
     "source": [
      "$$\n",
      "\\mbox{RMS} = \\sqrt{\\int_0^T u^2dt} \\approx \\sqrt{\\frac{1}{N+1}\\sum_{i=0}^N (u^n)^2}\n",
      "$$"
     ]
    },
    {
     "cell_type": "code",
     "collapsed": false,
     "input": [
      "def rms(data):\n",
      "    u_rms = np.zeros(t.size)  # for accumulating the rms value\n",
      "    for h, a, u in data[2:]:  # loop over results\n",
      "        u_rms += u**2\n",
      "    u_rms = np.sqrt(u_rms/u_rms.size)\n",
      "    data.append(u_rms)\n",
      "    return data\n"
     ],
     "language": "python",
     "metadata": {},
     "outputs": [],
     "prompt_number": 1
    },
    {
     "cell_type": "markdown",
     "metadata": {},
     "source": [
      "### Pickling objects to file\n",
      "\n",
      "After calling"
     ]
    },
    {
     "cell_type": "markdown",
     "metadata": {},
     "source": [
      "```Python\n",
      "        road_url = 'http://hplbit.bitbucket.org/data/bumpy/bumpy.dat.gz'\n",
      "        data = solve(url=road_url,\n",
      "                     m=60, b=200, k=60, v=6)\n",
      "        data = rms(data)\n",
      "\n",
      "```"
     ]
    },
    {
     "cell_type": "markdown",
     "metadata": {},
     "source": [
      "the `data` array contains single arrays and triplets of arrays,"
     ]
    },
    {
     "cell_type": "markdown",
     "metadata": {},
     "source": [
      "```Python\n",
      "        [x, t, [h,a,u], [h,a,u], ..., [h,a,u], u_rms]\n",
      "\n",
      "```"
     ]
    },
    {
     "cell_type": "markdown",
     "metadata": {},
     "source": [
      "This list, or any Python object, can be stored on file for later\n",
      "retrieval of the results, using *pickling*:"
     ]
    },
    {
     "cell_type": "markdown",
     "metadata": {},
     "source": [
      "```Python\n",
      "        import cPickle\n",
      "        outfile = open('bumpy.res', 'w')\n",
      "        cPickle.dump(data, outfile)\n",
      "        outfile.close()\n",
      "\n",
      "```"
     ]
    },
    {
     "cell_type": "markdown",
     "metadata": {},
     "source": [
      "See [`bumpy.py`](https://github.com/hplgit/bumpy/blob/master/doc/src/src-bumpy/bumpy.py).\n",
      "\n",
      "\n",
      "## User input\n",
      "\n",
      "\n",
      "<p></p>\n",
      "<img src=\"fig-bumpy/input2.jpg\" width=500>\n",
      "\n",
      "\n",
      "\n",
      "### Positional command-line arguments\n",
      "\n",
      "Suppose $b$ is given on the command line:"
     ]
    },
    {
     "cell_type": "markdown",
     "metadata": {},
     "source": [
      "```\n",
      "        Terminal> python bumpy.py 10\n",
      "\n",
      "```"
     ]
    },
    {
     "cell_type": "markdown",
     "metadata": {},
     "source": [
      "Code:"
     ]
    },
    {
     "cell_type": "code",
     "collapsed": false,
     "input": [
      "try:\n",
      "    b = float(sys.argv[1])\n",
      "except IndexError:\n",
      "    b = 80  # default\n"
     ],
     "language": "python",
     "metadata": {},
     "outputs": [],
     "prompt_number": 1
    },
    {
     "cell_type": "markdown",
     "metadata": {},
     "source": [
      "Note: 1st command-line argument in `sys.argv[1]`, but that is a string\n",
      "\n",
      "### Option-value pairs on the command line\n",
      "\n",
      "Now we want to use option-value pairs on the command line:"
     ]
    },
    {
     "cell_type": "markdown",
     "metadata": {},
     "source": [
      "```\n",
      "        Terminal> python bumpy.py --m 40 --b 280\n",
      "\n",
      "```"
     ]
    },
    {
     "cell_type": "markdown",
     "metadata": {},
     "source": [
      "Note:\n",
      "\n",
      " * All parameters have default values\n",
      "\n",
      " * The default value can be overridden on the command line with\n",
      "   `--option value`\n",
      "\n",
      " * We use the `argparse` module for defining, reading, and accessing\n",
      "   option-value pairs\n",
      "\n",
      "### Example on using `argparse`"
     ]
    },
    {
     "cell_type": "code",
     "collapsed": false,
     "input": [
      "def command_line_options():\n",
      "    import argparse\n",
      "    parser = argparse.ArgumentParser()\n",
      "    parser.add_argument('--m', '--mass', type=float,\n",
      "                        default=60, help='mass of vehicle')\n",
      "    parser.add_argument('--k', '--spring', type=float,\n",
      "                        default=60, help='spring parameter')\n",
      "    parser.add_argument('--b', '--damping', type=float,\n",
      "                        default=80, help='damping parameter')\n",
      "    parser.add_argument('--v', '--velocity', type=float,\n",
      "                        default=5, help='velocity of vehicle')\n",
      "    url = 'http://hplbit.bitbucket.org/data/bumpy/bumpy.dat.gz'\n",
      "    parser.add_argument('--roadfile', type=str,\n",
      "              default=url, help='filename/URL with road data')\n",
      "    args = parser.parse_args()\n",
      "    # Extract input parameters\n",
      "    m = args.m; k = args.k; b = args.b; v = args.v\n",
      "    url = args.roadfile\n",
      "    return url, m, b, k, v\n"
     ],
     "language": "python",
     "metadata": {},
     "outputs": [],
     "prompt_number": 1
    },
    {
     "cell_type": "markdown",
     "metadata": {},
     "source": [
      "## Visual exploration\n",
      "\n",
      "Plot\n",
      "\n",
      " * the root mean square value of $u(t)$, to see the typical amplitudes\n",
      "\n",
      " * the spectrum of $u(t)$, for $t>t_s$ (using FFT) to see which frequencies\n",
      "   that dominate in the signal\n",
      "\n",
      " * for each road shape, a plot of $h(x)$, $a(t)$, and $u(t)$, for\n",
      "   $t\\geq t_s$\n",
      "\n",
      "### Code (part I)\n",
      "\n",
      "For convenience:"
     ]
    },
    {
     "cell_type": "code",
     "collapsed": false,
     "input": [
      "from numpy import *\n",
      "from matplotlib.pyplot import *\n"
     ],
     "language": "python",
     "metadata": {},
     "outputs": [],
     "prompt_number": 1
    },
    {
     "cell_type": "markdown",
     "metadata": {},
     "source": [
      "Loading results from file:"
     ]
    },
    {
     "cell_type": "code",
     "collapsed": false,
     "input": [
      "import cPickle\n",
      "outfile = open('bumpy.res', 'r')\n",
      "data = cPickle.load(outfile)\n",
      "outfile.close()\n",
      "\n",
      "x, t = data[0:2]\n",
      "u_rms = data[-1]\n"
     ],
     "language": "python",
     "metadata": {},
     "outputs": [],
     "prompt_number": 1
    },
    {
     "cell_type": "markdown",
     "metadata": {},
     "source": [
      "Recall list `data`:"
     ]
    },
    {
     "cell_type": "markdown",
     "metadata": {},
     "source": [
      "```Python\n",
      "        [x, t, [h,a,u], [h,a,u], ..., [h,a,u], u_rms]\n",
      "\n",
      "```"
     ]
    },
    {
     "cell_type": "markdown",
     "metadata": {},
     "source": [
      "### Code (part II)\n",
      "\n",
      "Display only the last portion of time series:"
     ]
    },
    {
     "cell_type": "code",
     "collapsed": false,
     "input": [
      "indices = t >= t_s   # True/False boolean array\n",
      "t = t[indices]       # fetch the part of t for which t > t_s\n",
      "x = x[indices]       # fetch the part of x for which t > t_s\n"
     ],
     "language": "python",
     "metadata": {},
     "outputs": [],
     "prompt_number": 1
    },
    {
     "cell_type": "markdown",
     "metadata": {},
     "source": [
      "Plotting the root mean square value array `u_rms` for `t >= t_s` is now done by"
     ]
    },
    {
     "cell_type": "code",
     "collapsed": false,
     "input": [
      "figure()\n",
      "u_rms = u_rms[indices]\n",
      "plot(t, u_rms)\n",
      "legend(['u'])\n",
      "xlabel('t')\n",
      "title('Root mean square value of u(t) functions')\n",
      "show()\n"
     ],
     "language": "python",
     "metadata": {},
     "outputs": [],
     "prompt_number": 1
    },
    {
     "cell_type": "markdown",
     "metadata": {},
     "source": [
      "### Code (part III)\n",
      "\n",
      "The spectrum of a discrete function $u(t)$:"
     ]
    },
    {
     "cell_type": "code",
     "collapsed": false,
     "input": [
      "def frequency_analysis(u, t):\n",
      "    A = fft(u)\n",
      "    A = 2*A\n",
      "    dt = t[1] - t[0]\n",
      "    N = t.size\n",
      "    freq = arange(N/2, dtype=float)/N/dt\n",
      "    A = abs(A[0:freq.size])/N\n",
      "    # Remove small high frequency part\n",
      "    tol = 0.05*A.max()\n",
      "    for i in xrange(len(A)-1, 0, -1):\n",
      "        if A[i] > tol:\n",
      "            break\n",
      "    return freq[:i+1], A[:i+1]\n",
      "\n",
      "figure()\n",
      "u = data[3][2][indices]  # 2nd realization of u\n",
      "f, A = frequency_analysis(u, t)\n",
      "plot(f, A)\n",
      "title('Spectrum of u')\n",
      "show()\n"
     ],
     "language": "python",
     "metadata": {},
     "outputs": [],
     "prompt_number": 1
    },
    {
     "cell_type": "markdown",
     "metadata": {},
     "source": [
      "### Plot of the spectrum\n",
      "\n",
      "\n",
      "<p></p>\n",
      "<img src=\"fig-bumpy/u_spectrum.png\" width=600>\n",
      "\n",
      "\n",
      "\n",
      "### Code (part IV)\n",
      "\n",
      "Run through all the 3-lists `[h, a, u]` and plot\n",
      "these arrays:"
     ]
    },
    {
     "cell_type": "code",
     "collapsed": false,
     "input": [
      "case_counter = 0\n",
      "for h, a, u in data[2:-1]:\n",
      "    h = h[indices]\n",
      "    a = a[indices]\n",
      "    u = u[indices]\n",
      "\n",
      "    figure()\n",
      "    subplot(3, 1, 1)\n",
      "    plot(x, h, 'g-')\n",
      "    legend(['h %d' % case_counter])\n",
      "    hmax = (abs(h.max()) + abs(h.min()))/2\n",
      "    axis([x[0], x[-1], -hmax*5, hmax*5])\n",
      "    xlabel('distance'); ylabel('height')\n",
      "\n",
      "    subplot(3, 1, 2)\n",
      "    plot(t, a)\n",
      "    legend(['a %d' % case_counter])\n",
      "    xlabel('t'); ylabel('acceleration')\n",
      "\n",
      "    subplot(3, 1, 3)\n",
      "    plot(t, u, 'r-')\n",
      "    legend(['u %d' % case_counter])\n",
      "    xlabel('t'); ylabel('displacement')\n",
      "    savefig('tmp%d.png' % case_counter)\n",
      "    case_counter += 1\n"
     ],
     "language": "python",
     "metadata": {},
     "outputs": [],
     "prompt_number": 1
    },
    {
     "cell_type": "markdown",
     "metadata": {},
     "source": [
      "### Plot\n",
      "\n",
      "\n",
      "<p></p>\n",
      "<img src=\"fig-bumpy/hau0.png\" width=700>\n",
      "\n",
      "\n",
      "\n",
      "See [`explore.py`](https://github.com/hplgit/bumpy/blob/master/doc/src/src-bumpy/explore.py)\n",
      "\n",
      "## Advanced topics\n",
      "\n",
      "\n",
      "<p></p>\n",
      "<img src=\"fig-bumpy/rocket_science1.gif\" width=400>\n",
      "\n",
      "\n",
      "\n",
      "### Symbolic computing via SymPy"
     ]
    },
    {
     "cell_type": "code",
     "collapsed": false,
     "input": [
      "import sympy as sp\n",
      "x, a = sp.symbols('x a')        # Define mathematical symbols\n",
      "Q = a*x**2 - 1                  # Quadratic function\n",
      "dQdx = sp.diff(Q, x)            # Differentiate wrt x\n",
      "dQdx\n",
      "Q2 = sp.integrate(dQdx, x)      # Integrate (no constant)\n",
      "Q2\n",
      "Q2 = sp.integrate(Q, (x, 0, a)) # Definite integral\n",
      "Q2\n",
      "roots = sp.solve(Q, x)          # Solve Q = 0 wrt x\n",
      "roots"
     ],
     "language": "python",
     "metadata": {},
     "outputs": [],
     "prompt_number": 1
    },
    {
     "cell_type": "markdown",
     "metadata": {},
     "source": [
      "### Go seamlessly from symbolic expression to Python function\n",
      "\n",
      "Convert a SymPy expression `Q` into\n",
      "a Python function `Q(x, a)`:"
     ]
    },
    {
     "cell_type": "code",
     "collapsed": false,
     "input": [
      "Q = sp.lambdify([x, a], Q)      # Turn Q into Py func.\n",
      "Q(x=2, a=3)                     # 3*2**2 - 1 = 11"
     ],
     "language": "python",
     "metadata": {},
     "outputs": [],
     "prompt_number": 1
    },
    {
     "cell_type": "markdown",
     "metadata": {},
     "source": [
      "This `Q(x, a)` function can be used for numerical computing\n",
      "\n",
      "### Testing via test functions and test frameworks\n",
      "\n",
      "Modern test frameworks:\n",
      "\n",
      " * [nose](https://nose.readthedocs.org/)\n",
      "\n",
      " * [pytest](http://pytest.org/latest/)\n",
      "\n",
      "Recommendation: use pytest, stay away from `unittest`\n",
      "\n",
      "\n",
      "### Example on a test function"
     ]
    },
    {
     "cell_type": "code",
     "collapsed": false,
     "input": [
      "def halve(x):\n",
      "    \"\"\"Return half of x.\"\"\"\n",
      "    return x/2.0\n",
      "\n",
      "def test_halve():\n",
      "    x = 4\n",
      "    expected = 2\n",
      "    computed = halve(x)\n",
      "    # Compare real numbers using tolerance\n",
      "    tol = 1E-14\n",
      "    diff = abs(computed - expected)\n",
      "    assert diff < tol\n"
     ],
     "language": "python",
     "metadata": {},
     "outputs": [],
     "prompt_number": 1
    },
    {
     "cell_type": "markdown",
     "metadata": {},
     "source": [
      "Note:\n",
      "\n",
      " * Name starts with `test_*`\n",
      "\n",
      " * No arguments\n",
      "\n",
      " * Must have `assert` on a boolean expression for passed test\n",
      "\n",
      "### Test function for the numerical solver"
     ]
    },
    {
     "cell_type": "code",
     "collapsed": false,
     "input": [
      "def lhs_eq(t, m, b, s, u, damping='linear'):\n",
      "    \"\"\"Return lhs of differential equation as sympy expression.\"\"\"\n",
      "    v = sm.diff(u, t)\n",
      "    d = b*v if damping == 'linear' else b*v*sm.Abs(v)\n",
      "    return m*sm.diff(u, t, t) + d + s(u)\n",
      "\n",
      "def test_solver():\n",
      "    \"\"\"Verify linear/quadratic solution.\"\"\"\n",
      "    # Set input data for the test\n",
      "    I = 1.2; V = 3; m = 2; b = 0.9; k = 4\n",
      "    s = lambda u: k*u\n",
      "    T = 2\n",
      "    dt = 0.2\n",
      "    N = int(round(T/dt))\n",
      "    time_points = np.linspace(0, T, N+1)\n",
      "\n",
      "    # Test linear damping\n",
      "    t = sm.Symbol('t')\n",
      "    q = 2  # arbitrary constant\n",
      "    u_exact = I + V*t + q*t**2   # sympy expression\n",
      "    F_term = lhs_eq(t, m, b, s, u_exact, 'linear')\n",
      "    print 'Fitted source term, linear case:', F_term\n",
      "    F = sm.lambdify([t], F_term)\n",
      "    u, t_ = solver(I, V, m, b, s, F, time_points, 'linear')\n",
      "    u_e = sm.lambdify([t], u_exact, modules='numpy')\n",
      "    error = abs(u_e(t_) - u).max()\n",
      "    tol = 1E-13\n",
      "    assert error < tol\n",
      "\n",
      "    # Test quadratic damping: u_exact must be linear\n",
      "    u_exact = I + V*t\n",
      "    F_term = lhs_eq(t, m, b, s, u_exact, 'quadratic')\n",
      "    print 'Fitted source term, quadratic case:', F_term\n",
      "    F = sm.lambdify([t], F_term)\n",
      "    u, t_ = solver(I, V, m, b, s, F, time_points, 'quadratic')\n",
      "    u_e = sm.lambdify([t], u_exact, modules='numpy')\n",
      "    error = abs(u_e(t_) - u).max()\n",
      "    assert error < tol\n"
     ],
     "language": "python",
     "metadata": {},
     "outputs": [],
     "prompt_number": 1
    },
    {
     "cell_type": "markdown",
     "metadata": {},
     "source": [
      "### Using a test framework\n",
      "\n",
      "Examine all subdirectories `test*` for `test_*.py` files:"
     ]
    },
    {
     "cell_type": "markdown",
     "metadata": {},
     "source": [
      "```\n",
      "        Terminal> py.test -s\n",
      "        ====================== test session starts =======================\n",
      "        ...\n",
      "        collected 3 items\n",
      "        \n",
      "        tests/test_bumpy.py .\n",
      "        Fitted source term, linear case: 8*t**2 + 15.6*t + 15.5\n",
      "        Fitted source term, quadratic case: 12*t + 12.9\n",
      "        testing solver\n",
      "        testing solver_linear_damping_wrapper\n",
      "        \n",
      "        ==================== 3 passed in 0.40 seconds ====================\n",
      "\n",
      "```"
     ]
    },
    {
     "cell_type": "markdown",
     "metadata": {},
     "source": [
      "Test a single file:"
     ]
    },
    {
     "cell_type": "markdown",
     "metadata": {},
     "source": [
      "```\n",
      "        Terminal> py.test -s tests/test_bumpy.py\n",
      "        ...\n",
      "\n",
      "```"
     ]
    },
    {
     "cell_type": "markdown",
     "metadata": {},
     "source": [
      "### Modules\n",
      "\n",
      " * Put functions in a file - that is a module\n",
      "\n",
      " * Move main program to a function\n",
      "\n",
      " * Use a test block for executable code (call to main function)"
     ]
    },
    {
     "cell_type": "code",
     "collapsed": false,
     "input": [
      "if __name__ == '__main__':\n",
      "    <statements in the main program>\n"
     ],
     "language": "python",
     "metadata": {},
     "outputs": [],
     "prompt_number": 1
    },
    {
     "cell_type": "markdown",
     "metadata": {},
     "source": [
      "### Example on a module file"
     ]
    },
    {
     "cell_type": "code",
     "collapsed": false,
     "input": [
      "import module1\n",
      "from module2 import somefunc1, somefunc2\n",
      "\n",
      "def myfunc1(...):\n",
      "    ...\n",
      "\n",
      "def myfunc2(...):\n",
      "    ...\n",
      "\n",
      "if __name__ == '__main__':\n",
      "    <statements in the main program>\n"
     ],
     "language": "python",
     "metadata": {},
     "outputs": [],
     "prompt_number": 1
    },
    {
     "cell_type": "markdown",
     "metadata": {},
     "source": [
      "### What gets imported?\n",
      "\n",
      "Import everything from the previous module:"
     ]
    },
    {
     "cell_type": "markdown",
     "metadata": {},
     "source": [
      "```Python\n",
      "        from mymod import *\n",
      "\n",
      "```"
     ]
    },
    {
     "cell_type": "markdown",
     "metadata": {},
     "source": [
      "This imports\n",
      "\n",
      " * `module1`, `somefunc1`, `somefunc2` (global names in `mymod`)\n",
      "\n",
      " * `myfunc1`, `myfunc2` (global functions in `mymod`)"
     ]
    }
   ],
   "metadata": {}
  }
 ]
}
